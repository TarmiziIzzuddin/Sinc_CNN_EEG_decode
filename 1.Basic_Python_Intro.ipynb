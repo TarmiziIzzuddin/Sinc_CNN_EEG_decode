{
 "cells": [
  {
   "cell_type": "markdown",
   "metadata": {},
   "source": [
    "<img align=\"right\" width=\"300\" height=\"163\" src=\"https://www.utem.edu.my/templates/yootheme/cache/b6/LogoUTeM-b6aaecab.webp\">\n",
    "\n",
    "# <b> BEKC 4873: Artificial Intelligence </b>\n",
    "# <b>Artificial Intelligence using Python <b>\n",
    "\n",
    "### 1. Basic Python: Arithmetic Operations, List, Dictionary and Tuple"
   ]
  },
  {
   "cell_type": "markdown",
   "metadata": {},
   "source": [
    "#### 1.1 Basic Python arithmetic operations"
   ]
  },
  {
   "cell_type": "markdown",
   "metadata": {},
   "source": [
    "Basic arithmetic operations are built into the Python langauge. Here are some examples. In particular, note that exponentiation is done with the \\*\\* operator."
   ]
  },
  {
   "cell_type": "code",
   "execution_count": 1,
   "metadata": {},
   "outputs": [
    {
     "name": "stdout",
     "output_type": "stream",
     "text": [
      "14\n",
      "144\n",
      "6.0\n"
     ]
    }
   ],
   "source": [
    "a = 12\n",
    "b = 2\n",
    "\n",
    "print(a + b)\n",
    "print(a**b)\n",
    "print(a/b)"
   ]
  },
  {
   "cell_type": "code",
   "execution_count": 137,
   "metadata": {},
   "outputs": [
    {
     "data": {
      "text/plain": [
       "'AB'"
      ]
     },
     "execution_count": 137,
     "metadata": {},
     "output_type": "execute_result"
    }
   ],
   "source": [
    "'A' + 'B'"
   ]
  },
  {
   "cell_type": "markdown",
   "metadata": {},
   "source": [
    "#### 1.2 Python Lists"
   ]
  },
  {
   "cell_type": "markdown",
   "metadata": {},
   "source": [
    "Lists are a versatile way of organizing your data in Python. Python lists can take on numbers, characters or string. "
   ]
  },
  {
   "cell_type": "code",
   "execution_count": 2,
   "metadata": {},
   "outputs": [
    {
     "data": {
      "text/plain": [
       "[1, 2, 3, 4]"
      ]
     },
     "execution_count": 2,
     "metadata": {},
     "output_type": "execute_result"
    }
   ],
   "source": [
    "#numbered list\n",
    "xList = [1, 2, 3, 4]\n",
    "xList\n"
   ]
  },
  {
   "cell_type": "code",
   "execution_count": 6,
   "metadata": {},
   "outputs": [
    {
     "data": {
      "text/plain": [
       "['a', 'b', 'c', 'd']"
      ]
     },
     "execution_count": 6,
     "metadata": {},
     "output_type": "execute_result"
    }
   ],
   "source": [
    "#lists of characters\n",
    "xList_c = ['a','b','c','d']\n",
    "xList_c"
   ]
  },
  {
   "cell_type": "code",
   "execution_count": 7,
   "metadata": {},
   "outputs": [
    {
     "data": {
      "text/plain": [
       "['my', 'name', 'age', 'number']"
      ]
     },
     "execution_count": 7,
     "metadata": {},
     "output_type": "execute_result"
    }
   ],
   "source": [
    "#lists of strings\n",
    "xList_s = ['my','name','age','number']\n",
    "xList_s"
   ]
  },
  {
   "cell_type": "markdown",
   "metadata": {},
   "source": [
    "List can be concatenated. using the '+' operator on a python list will concatenate the two lists."
   ]
  },
  {
   "cell_type": "code",
   "execution_count": 8,
   "metadata": {},
   "outputs": [
    {
     "data": {
      "text/plain": [
       "['this', 'list', 'can', 'can', 'be', 'concatenated']"
      ]
     },
     "execution_count": 8,
     "metadata": {},
     "output_type": "execute_result"
    }
   ],
   "source": [
    "#list concatenation example\n",
    "list_1 = ['this','list','can']\n",
    "list_2 = ['can','be','concatenated']\n",
    "\n",
    "#concatenated two lists\n",
    "list_1 + list_2"
   ]
  },
  {
   "cell_type": "markdown",
   "metadata": {},
   "source": [
    "To access element inside a list, use the bracket [] together with the index (the element number), example:"
   ]
  },
  {
   "cell_type": "code",
   "execution_count": 100,
   "metadata": {},
   "outputs": [
    {
     "data": {
      "text/plain": [
       "'ch4'"
      ]
     },
     "execution_count": 100,
     "metadata": {},
     "output_type": "execute_result"
    }
   ],
   "source": [
    "list_ex = ['ch1','ch2','ch3','ch4','ch5']\n",
    "\n",
    "#accessing the 3 element in a list\n",
    "\n",
    "list_ex[3]"
   ]
  },
  {
   "cell_type": "code",
   "execution_count": 101,
   "metadata": {},
   "outputs": [
    {
     "name": "stdout",
     "output_type": "stream",
     "text": [
      "ch1\n",
      "ch2\n",
      "ch3\n",
      "ch4\n",
      "ch5\n"
     ]
    }
   ],
   "source": [
    "#using for loop to list out each element\n",
    "\n",
    "for i in list_ex:\n",
    "    print(i)\n"
   ]
  },
  {
   "cell_type": "markdown",
   "metadata": {},
   "source": [
    "List can be sliced to access certain elements. Slicing is formatted as <i>data[start<b>:</b>stop<b>:</b>step]</i> where data is the list. If <i>stop</i> is unspecified, python defaults <i>stop</i> to be at the end of the list. If <i>step</i> is unspecified, python defaults the step size to 1. "
   ]
  },
  {
   "cell_type": "code",
   "execution_count": 102,
   "metadata": {},
   "outputs": [
    {
     "name": "stdout",
     "output_type": "stream",
     "text": [
      "['ch2', 'ch3', 'ch4', 'ch5']\n",
      "['ch2', 'ch3', 'ch4']\n",
      "['ch1', 'ch3', 'ch5']\n",
      "['ch4', 'ch5']\n"
     ]
    }
   ],
   "source": [
    "#example of list slicing, data[start:stop;step]\n",
    "print(list_ex[1:])   #print all starting from 2nd element to last (python is 0-indexed and end at index-1)\n",
    "print(list_ex[1:4])  #print 2nd to 4th element in a tuple \n",
    "print(list_ex[0::2]) #print elements starting from 1st element to last with a step of 2\n",
    "print(list_ex[-2:]) # print the last two elements (negative is to indicate index is starting from right)"
   ]
  },
  {
   "cell_type": "markdown",
   "metadata": {},
   "source": [
    "#### 1.3 Python Dictionaries"
   ]
  },
  {
   "cell_type": "markdown",
   "metadata": {},
   "source": [
    "Another core feature of python is the use of Dictionaries. Dictionaries allow for restoring and retrieving data as key-value pairs. Example of Dictionaries are shown below, which the key are molecular formulas and the values are the corresponding molar masses."
   ]
  },
  {
   "cell_type": "code",
   "execution_count": 1,
   "metadata": {},
   "outputs": [
    {
     "data": {
      "text/plain": [
       "{'CH4': 16.04, 'H2O': 18.02, 'O2': 32.0, 'CO2': 44.01}"
      ]
     },
     "execution_count": 1,
     "metadata": {},
     "output_type": "execute_result"
    }
   ],
   "source": [
    "mw = {'CH4': 16.04, 'H2O': 18.02, 'O2':32.00, 'CO2': 44.01}\n",
    "mw"
   ]
  },
  {
   "cell_type": "markdown",
   "metadata": {},
   "source": [
    "We retrieve the value of an entry in the dictionary by using the bracket [] together with the key value, example:"
   ]
  },
  {
   "cell_type": "code",
   "execution_count": 7,
   "metadata": {},
   "outputs": [
    {
     "data": {
      "text/plain": [
       "18.02"
      ]
     },
     "execution_count": 7,
     "metadata": {},
     "output_type": "execute_result"
    }
   ],
   "source": [
    "# retrieving the value of H20 molar masses\n",
    "mw['H2O']"
   ]
  },
  {
   "cell_type": "code",
   "execution_count": 8,
   "metadata": {},
   "outputs": [
    {
     "data": {
      "text/plain": [
       "34.06"
      ]
     },
     "execution_count": 8,
     "metadata": {},
     "output_type": "execute_result"
    }
   ],
   "source": [
    "# adding the value of H2O mollar mass and CH4 molar mass\n",
    "mw['H2O'] + mw['CH4']"
   ]
  },
  {
   "cell_type": "markdown",
   "metadata": {},
   "source": [
    "The list of all keys in a dictionary can be shown using the <i>.keys()</i> method,"
   ]
  },
  {
   "cell_type": "code",
   "execution_count": 12,
   "metadata": {},
   "outputs": [
    {
     "data": {
      "text/plain": [
       "dict_keys(['CH4', 'H2O', 'O2', 'CO2'])"
      ]
     },
     "execution_count": 12,
     "metadata": {},
     "output_type": "execute_result"
    }
   ],
   "source": [
    "#list all the keys in mw dictionary\n",
    "\n",
    "mw.keys()"
   ]
  },
  {
   "cell_type": "code",
   "execution_count": 14,
   "metadata": {},
   "outputs": [
    {
     "data": {
      "text/plain": [
       "dict_values([16.04, 18.02, 32.0, 44.01])"
      ]
     },
     "execution_count": 14,
     "metadata": {},
     "output_type": "execute_result"
    }
   ],
   "source": [
    "#list all the values in mw dictionary\n",
    "mw.values()"
   ]
  },
  {
   "cell_type": "code",
   "execution_count": 147,
   "metadata": {},
   "outputs": [
    {
     "data": {
      "text/plain": [
       "[16.04, 18.02, 32.0, 44.01]"
      ]
     },
     "execution_count": 147,
     "metadata": {},
     "output_type": "execute_result"
    }
   ],
   "source": [
    "#converting keys or values to a list using the list funtion\n",
    "list(mw.values())"
   ]
  },
  {
   "cell_type": "markdown",
   "metadata": {},
   "source": [
    "Similar like example shown in previous section, <i>for-loop</i> can be used to iteratively access the values in a dictionary"
   ]
  },
  {
   "cell_type": "code",
   "execution_count": 109,
   "metadata": {},
   "outputs": [
    {
     "name": "stdout",
     "output_type": "stream",
     "text": [
      "The molar mass of CH4 is 16.04\n",
      "The molar mass of H2O is 18.02\n",
      "The molar mass of O2 is 32.0\n",
      "The molar mass of CO2 is 44.01\n"
     ]
    }
   ],
   "source": [
    "for key in mw.keys():\n",
    "    print(\"The molar mass of\", key, \"is\",  mw[key])"
   ]
  },
  {
   "cell_type": "markdown",
   "metadata": {},
   "source": [
    "#### 1.4 Python Tuples\n",
    "\n",
    "Tuple is another concept in Python in which data can be represented. Tuple is similar list except that that it is <b> immutable </b> (cannot be changed) or unchangeable when created. The reason for the use of this datatype are:\n",
    "\n",
    "- Tuples are faster than lists. If you ever defined a set of constant values and all you ever want to do is read those values, you should use tuples instead of lists.\n",
    "- Tuples are like 'write-protected' lists so that the data cannot be changed by accident.\n"
   ]
  },
  {
   "cell_type": "markdown",
   "metadata": {},
   "source": [
    "Example of a tuple is shown below, instead of using square bracket, a parentheses () is used to define a tuple:"
   ]
  },
  {
   "cell_type": "code",
   "execution_count": 84,
   "metadata": {},
   "outputs": [
    {
     "name": "stdout",
     "output_type": "stream",
     "text": [
      "('this', 'is', 'a', 'tuple', 'okey')\n",
      "(1, 2, 3, 5)\n",
      "(45, 'b', 54, 'd')\n"
     ]
    }
   ],
   "source": [
    "#creating a tuple\n",
    "my_tuple = ('this', 'is','a', 'tuple','okey')\n",
    "my_tuple2 = (1,2,3,5)\n",
    "my_tuple3 = (45, 'b',54,'d')\n",
    "\n",
    "print(my_tuple)\n",
    "print(my_tuple2)\n",
    "print(my_tuple3)"
   ]
  },
  {
   "cell_type": "markdown",
   "metadata": {},
   "source": [
    "data in a tuple can be retrieved similar to a list."
   ]
  },
  {
   "cell_type": "code",
   "execution_count": 56,
   "metadata": {},
   "outputs": [
    {
     "data": {
      "text/plain": [
       "'a'"
      ]
     },
     "execution_count": 56,
     "metadata": {},
     "output_type": "execute_result"
    }
   ],
   "source": [
    "#retreiving data in a tuple, accessing the third element in a tuple\n",
    "my_tuple[2] "
   ]
  },
  {
   "cell_type": "markdown",
   "metadata": {},
   "source": [
    "accessing elements in a tuple is similar to list. Remember slicing is formatted as <i>data[start<b>:</b>stop<b>:</b>step)]</i>"
   ]
  },
  {
   "cell_type": "code",
   "execution_count": 90,
   "metadata": {},
   "outputs": [
    {
     "name": "stdout",
     "output_type": "stream",
     "text": [
      "('is', 'a', 'tuple', 'okey')\n",
      "('is', 'a', 'tuple')\n",
      "('this', 'a', 'okey')\n",
      "(54, 'd')\n"
     ]
    }
   ],
   "source": [
    "#another example, \n",
    "print(my_tuple[1:])   #print all starting from 2nd element to last (python is 0-indexed and end at index-1)\n",
    "print(my_tuple[1:4])  #print 2nd to 4th element in a tuple \n",
    "print(my_tuple[0::2]) #print elements starting from 1st element to last with a step of 2\n",
    "print(my_tuple3[-2:]) # print the last two elements (negative is to indicate index is starting from right)"
   ]
  },
  {
   "cell_type": "markdown",
   "metadata": {},
   "source": [
    "Tuples are immutable objects which means that you cannot update, append, remove, and/or modify the items in the tuple. However what you can do is take items from different tuples and create new tuples with those. Let's take a look at some examples below."
   ]
  },
  {
   "cell_type": "code",
   "execution_count": 91,
   "metadata": {},
   "outputs": [
    {
     "data": {
      "text/plain": [
       "(1, 2, 3, 4, 5, 'a', 'b', 'c', 'd', 'e')"
      ]
     },
     "execution_count": 91,
     "metadata": {},
     "output_type": "execute_result"
    }
   ],
   "source": [
    "tuple1 = (1, 2, 3, 4, 5)\n",
    "tuple2 = ('a', 'b' , 'c' ,'d' , 'e')\n",
    "# Tuple Concatentation\n",
    "tuple1 + tuple2"
   ]
  },
  {
   "cell_type": "code",
   "execution_count": 92,
   "metadata": {},
   "outputs": [
    {
     "data": {
      "text/plain": [
       "(1, 2, 3, 4, 5, 1, 2, 3, 4, 5)"
      ]
     },
     "execution_count": 92,
     "metadata": {},
     "output_type": "execute_result"
    }
   ],
   "source": [
    "# tuple repetition\n",
    "tuple1 * 2"
   ]
  },
  {
   "cell_type": "code",
   "execution_count": 103,
   "metadata": {},
   "outputs": [
    {
     "name": "stdout",
     "output_type": "stream",
     "text": [
      "True\n"
     ]
    }
   ],
   "source": [
    "# Membership operator, returns true if member of tuple\n",
    "print('a' in tuple2)  #return true\n"
   ]
  },
  {
   "cell_type": "code",
   "execution_count": 96,
   "metadata": {},
   "outputs": [
    {
     "name": "stdout",
     "output_type": "stream",
     "text": [
      "False\n"
     ]
    }
   ],
   "source": [
    "print('z' in tuple2) #return false"
   ]
  },
  {
   "cell_type": "markdown",
   "metadata": {},
   "source": [
    "### 2. Basic Python : Control structures"
   ]
  },
  {
   "cell_type": "markdown",
   "metadata": {},
   "source": [
    "Control structures allows for code to be constructed to flow between different paths and decisions in a program based on changes in a variable values. In any programming language the three mainly used control structures are:\n",
    "\n",
    "- if..else.. \n",
    "- while..\n",
    "- for...\n"
   ]
  },
  {
   "cell_type": "markdown",
   "metadata": {},
   "source": [
    "#### 2.1 The If control structures and its variants"
   ]
  },
  {
   "cell_type": "markdown",
   "metadata": {},
   "source": [
    "The <i>if</i> statement allows for code to be branched based on expression. Example of <i>if</i> statement:"
   ]
  },
  {
   "cell_type": "code",
   "execution_count": 113,
   "metadata": {},
   "outputs": [
    {
     "name": "stdout",
     "output_type": "stream",
     "text": [
      "value is 5 and threshold is  4\n",
      "5 is bigger than  4\n"
     ]
    }
   ],
   "source": [
    "value = 5\n",
    "threshold= 4\n",
    "print(\"value is\", value, \"and\", \"threshold is \", threshold)\n",
    "if value > threshold :\n",
    "    print(value, \"is bigger than \", threshold)"
   ]
  },
  {
   "cell_type": "markdown",
   "metadata": {},
   "source": [
    "In the example above the <i>print</i> statement executes because the statement <i>value > threshold</i> returns True. Here we use <i>></i> operator int the test statement. Apart from this there are other comparison operator:\n",
    "\n",
    "- <b>==</b> : To test whether two value is similar\n",
    "- <b>!=</b>    : To test whether two value is not similar\n",
    "- <b><</b>    : To test whether a variable is less than the other\n",
    "- <b>=<</b>    : To test whether a variable is less than or equal than the other\n",
    "- <b>=></b>    : To test whether a variable is less than or equal than the other\n",
    "\n",
    "We can use the <i>else</i> statement to direct the flow of the program is the condition is not True (False)"
   ]
  },
  {
   "cell_type": "code",
   "execution_count": 115,
   "metadata": {},
   "outputs": [
    {
     "name": "stdout",
     "output_type": "stream",
     "text": [
      "value is 3 and threshold is  4\n",
      "3 is smaller than  4\n"
     ]
    }
   ],
   "source": [
    "value = 3\n",
    "threshold= 4\n",
    "print(\"value is\", value, \"and\", \"threshold is \", threshold)\n",
    "if value > threshold :\n",
    "    print(value, \"is bigger than \", threshold)\n",
    "else :\n",
    "    print(value, \"is smaller than \", threshold)\n",
    "    "
   ]
  },
  {
   "cell_type": "markdown",
   "metadata": {},
   "source": [
    "A further extension of the if statement is the <i> if ... elif ...else</i> version. Example:"
   ]
  },
  {
   "cell_type": "code",
   "execution_count": 118,
   "metadata": {},
   "outputs": [
    {
     "name": "stdout",
     "output_type": "stream",
     "text": [
      "a =  3 and b =  4\n",
      "3  is less than  4\n"
     ]
    }
   ],
   "source": [
    "# if ... elif ... else ... endIf\n",
    "\n",
    "a = 3   #try changing the value to see how the code below execute\n",
    "b = 4\n",
    "print(\"a = \", a, \"and b = \", b)\n",
    "\n",
    "if a > b :\n",
    "    print(a, \" is greater than \", b)\n",
    "elif a == b :\n",
    "    print(a, \" equals \", b)\n",
    "else :\n",
    "    print(a, \" is less than \", b)"
   ]
  },
  {
   "cell_type": "markdown",
   "metadata": {},
   "source": [
    "#### 2.2 The <i> while </i> loop "
   ]
  },
  {
   "cell_type": "markdown",
   "metadata": {},
   "source": [
    "The while loop is used to repeatedly execute lines of code until some condition becomes False. Loop terminates when the test stament is met. Example of using a while loop:"
   ]
  },
  {
   "cell_type": "code",
   "execution_count": 121,
   "metadata": {},
   "outputs": [
    {
     "name": "stdout",
     "output_type": "stream",
     "text": [
      "The sum of the numbers from 1 to 10 is  55\n"
     ]
    }
   ],
   "source": [
    "# while loop\n",
    "n = 10\n",
    "cur_sum = 0\n",
    "# sum of n  numbers\n",
    "i = 1\n",
    "while  i <= n :    #if i is still less than or not equal to n, keep on executing\n",
    "    cur_sum = cur_sum + i\n",
    "    i = i + 1      #increment i by 1\n",
    "print(\"The sum of the numbers from 1 to\", n, \"is \", cur_sum)"
   ]
  },
  {
   "cell_type": "markdown",
   "metadata": {},
   "source": [
    "#### 2.2 The <i> for </i> loop"
   ]
  },
  {
   "cell_type": "markdown",
   "metadata": {},
   "source": [
    "Similar to the <i> while </i> loop, the <i>for</i> loop excute statements iteratively until condition is met. However, <i>for</i> loop is used when the outset of how often the statements will be executed is known. Using <i>for</i> loop doesn't require for checking the condition of a variable. Example"
   ]
  },
  {
   "cell_type": "code",
   "execution_count": 132,
   "metadata": {},
   "outputs": [
    {
     "name": "stdout",
     "output_type": "stream",
     "text": [
      "0\n",
      "1\n",
      "2\n",
      "3\n"
     ]
    }
   ],
   "source": [
    "for i in range(4): #the range(start, stop,step) function creates a sequence from start to stop-1, with step. Default for start is 0 (if unspecified) \n",
    "    print(i)"
   ]
  },
  {
   "cell_type": "code",
   "execution_count": 134,
   "metadata": {},
   "outputs": [
    {
     "name": "stdout",
     "output_type": "stream",
     "text": [
      "1\n",
      "3\n",
      "5\n",
      "7\n",
      "9\n"
     ]
    }
   ],
   "source": [
    "for i in range(1,11,2):\n",
    "    print(i)\n"
   ]
  },
  {
   "cell_type": "code",
   "execution_count": 135,
   "metadata": {},
   "outputs": [
    {
     "name": "stdout",
     "output_type": "stream",
     "text": [
      "1\n",
      "2\n",
      "3\n",
      "a\n",
      "b\n",
      "c\n",
      "east\n",
      "west\n",
      "south\n",
      "north\n"
     ]
    }
   ],
   "source": [
    "#example of iterating over a list\n",
    "\n",
    "a_list = [1,2,3,'a','b','c','east','west','south','north']\n",
    "\n",
    "for x in a_list:\n",
    "    print(x)"
   ]
  },
  {
   "cell_type": "code",
   "execution_count": 136,
   "metadata": {},
   "outputs": [
    {
     "name": "stdout",
     "output_type": "stream",
     "text": [
      "A\n",
      "B\n",
      "C\n",
      "D\n",
      "E\n"
     ]
    }
   ],
   "source": [
    "# for loop can also be repeated over a string\n",
    "for i in \"ABCDE\" :\n",
    "    print(i)"
   ]
  },
  {
   "cell_type": "code",
   "execution_count": 138,
   "metadata": {},
   "outputs": [
    {
     "name": "stdout",
     "output_type": "stream",
     "text": [
      "469\n"
     ]
    }
   ],
   "source": [
    "# example of using for to calculate the sum of numbers in a list\n",
    "\n",
    "num_list = [25,23,45,67,12,64,74,67,34,23,12,23]\n",
    "\n",
    "\n",
    "sum = 0  #create an initial variable\n",
    "for i in num_list:\n",
    "    sum = sum + i #add on the value i to x and update x     \n",
    "\n",
    "print(sum)"
   ]
  },
  {
   "cell_type": "markdown",
   "metadata": {},
   "source": [
    "## EXERCISES"
   ]
  },
  {
   "cell_type": "markdown",
   "metadata": {},
   "source": [
    "Q1. Given a list of float numbers <i>f_num</i> obtain the:\n",
    "- Sum of all numbers and assign it to the variable <i>f_sum</i>\n",
    "- average of all numbers and assign it to the variable <i>f_average</i>\n",
    "- print <i>f_sum</i> and <i>f_average</i>"
   ]
  },
  {
   "cell_type": "code",
   "execution_count": 149,
   "metadata": {},
   "outputs": [],
   "source": [
    "f_num = [2.654, 2.312, 3.413, 4.765, 2.312, 7.756, 10.431, 8.976, 5.732 ]\n",
    "\n",
    "# write your solution of Q1 here\n",
    "\n"
   ]
  },
  {
   "cell_type": "markdown",
   "metadata": {},
   "source": [
    "Q2. Given a dictionary of <i>exam_scores</i>, which contains student names and its corresponding test scores, do the following:\n",
    "- Append all scores in a list of <i>list_scores</i>\n",
    "- iterate through the list of <i>list_scores</i> using <i>for</i> loop\n",
    "- Find the maximum score in the list using <i>if...else</i> statement, and assign it to variable <i>score_max</i>\n",
    "- Find the minimum score in the list using <i>if...else</i> statement, and assign it to variable <i>score_min</i>\n",
    "- Print the minimum and maximum score"
   ]
  },
  {
   "cell_type": "code",
   "execution_count": null,
   "metadata": {},
   "outputs": [],
   "source": [
    "exam_scores = {'Ali':78.2, 'Ahmad': 65.4, 'Siti': 75.2, 'Bala': 64.3, 'Chong': 81.2, 'Abdool':55.2, 'Liew':89.2, 'Hadi':87.4 }\n",
    "\n",
    "# Write your solution for Q2 here\n",
    "# hint initialize your for score_min and score_max with the first test value before looping\n",
    "\n"
   ]
  },
  {
   "cell_type": "markdown",
   "metadata": {},
   "source": [
    "Q3. Given a list of rectangle shaped item <i>rectangles</i>, and its corresponding list of tuples <i>dimensions</i>, which containts the rectangle's dimension <i>(width,height)</i>, perform the following:\n",
    "- using <i>while loop</i> iterates through the list  <i>rectangles</i>,  until 'rectangle 6' is found. Use a variable as an index to keep track of the number or loop.\n",
    "- Once 'rectangle 6 ' is found, use the index to extract the corresponding dimensions from the <i>dimensions</i> list.\n",
    "- Next calculate its area (<i>area=width x height</i>)\n",
    "- print the area of 'rectangle 6'"
   ]
  },
  {
   "cell_type": "code",
   "execution_count": 159,
   "metadata": {},
   "outputs": [
    {
     "name": "stdout",
     "output_type": "stream",
     "text": [
      "The area of rectangle 6 is  35\n"
     ]
    }
   ],
   "source": [
    "rectangles = ['rectangle 1','rectangle 2','rectangle 3','rectangle 4','rectangle 5','rectangle 6','rectangle 7''rectangle 8','rectangle 9','rectangle 10']\n",
    "dimensions = [(4,5),(7,8),(6,5),(9,4),(4,3),(7,5),(8,7),(7,4),(8,9),(6,7)]\n",
    "\n",
    "# Write your solution for Q3 here\n",
    "# hint becareful of iterating index when using while, remember while statement will exit once condition is met, hence statement afterit will not be\n",
    "# executed. \n",
    "\n"
   ]
  }
 ],
 "metadata": {
  "kernelspec": {
   "display_name": "Python 3 (ipykernel)",
   "language": "python",
   "name": "python3"
  },
  "language_info": {
   "codemirror_mode": {
    "name": "ipython",
    "version": 3
   },
   "file_extension": ".py",
   "mimetype": "text/x-python",
   "name": "python",
   "nbconvert_exporter": "python",
   "pygments_lexer": "ipython3",
   "version": "3.10.7"
  },
  "vscode": {
   "interpreter": {
    "hash": "a0cb3063e4d1817848e0611c0ec90460e2ed4e0f6f83c33189da7391ee5fceee"
   }
  }
 },
 "nbformat": 4,
 "nbformat_minor": 4
}
